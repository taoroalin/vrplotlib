{
 "cells": [
  {
   "cell_type": "code",
   "execution_count": 8,
   "id": "75419e68-5add-4f06-b07a-832e193c2cb3",
   "metadata": {},
   "outputs": [
    {
     "ename": "ImportError",
     "evalue": "cannot import name 'optimizer' from 'onnx' (C:\\Users\\taoro\\AppData\\Roaming\\Python\\Python39\\site-packages\\onnx\\__init__.py)",
     "output_type": "error",
     "traceback": [
      "\u001b[1;31m---------------------------\u001b[0m",
      "\u001b[1;31mImportError\u001b[0mTraceback (most recent call last)",
      "\u001b[1;32m~\\AppData\\Local\\Temp/ipykernel_4952/2039976803.py\u001b[0m in \u001b[0;36m<module>\u001b[1;34m\u001b[0m\n\u001b[0;32m      5\u001b[0m \u001b[1;32mimport\u001b[0m \u001b[0mtorch\u001b[0m\u001b[1;33m\u001b[0m\u001b[1;33m\u001b[0m\u001b[0m\n\u001b[0;32m      6\u001b[0m \u001b[1;32mimport\u001b[0m \u001b[0mtorchvision\u001b[0m\u001b[1;33m\u001b[0m\u001b[1;33m\u001b[0m\u001b[0m\n\u001b[1;32m----> 7\u001b[1;33m \u001b[1;32mfrom\u001b[0m \u001b[0mpytorch2keras\u001b[0m \u001b[1;32mimport\u001b[0m \u001b[0mpytorch_to_keras\u001b[0m\u001b[1;33m\u001b[0m\u001b[1;33m\u001b[0m\u001b[0m\n\u001b[0m\u001b[0;32m      8\u001b[0m \u001b[1;32mimport\u001b[0m \u001b[0mtorchvision\u001b[0m\u001b[1;33m.\u001b[0m\u001b[0mmodels\u001b[0m \u001b[1;32mas\u001b[0m \u001b[0mmodels\u001b[0m\u001b[1;33m\u001b[0m\u001b[1;33m\u001b[0m\u001b[0m\n\u001b[0;32m      9\u001b[0m \u001b[0mp_model\u001b[0m \u001b[1;33m=\u001b[0m \u001b[0mmodels\u001b[0m\u001b[1;33m.\u001b[0m\u001b[0mresnet50\u001b[0m\u001b[1;33m(\u001b[0m\u001b[0mpretrained\u001b[0m\u001b[1;33m=\u001b[0m\u001b[1;32mTrue\u001b[0m\u001b[1;33m)\u001b[0m\u001b[1;33m\u001b[0m\u001b[1;33m\u001b[0m\u001b[0m\n",
      "\u001b[1;32m~\\AppData\\Roaming\\Python\\Python39\\site-packages\\pytorch2keras\\__init__.py\u001b[0m in \u001b[0;36m<module>\u001b[1;34m\u001b[0m\n\u001b[1;32m----> 1\u001b[1;33m \u001b[1;32mfrom\u001b[0m \u001b[1;33m.\u001b[0m\u001b[0mconverter\u001b[0m \u001b[1;32mimport\u001b[0m \u001b[0mpytorch_to_keras\u001b[0m\u001b[1;33m\u001b[0m\u001b[1;33m\u001b[0m\u001b[0m\n\u001b[0m\u001b[0;32m      2\u001b[0m \u001b[1;33m\u001b[0m\u001b[0m\n\u001b[0;32m      3\u001b[0m \u001b[0m__all__\u001b[0m \u001b[1;33m=\u001b[0m \u001b[1;33m[\u001b[0m\u001b[1;34m'pytorch_to_keras'\u001b[0m\u001b[1;33m]\u001b[0m\u001b[1;33m\u001b[0m\u001b[1;33m\u001b[0m\u001b[0m\n",
      "\u001b[1;32m~\\AppData\\Roaming\\Python\\Python39\\site-packages\\pytorch2keras\\converter.py\u001b[0m in \u001b[0;36m<module>\u001b[1;34m\u001b[0m\n\u001b[0;32m      6\u001b[0m \u001b[1;32mimport\u001b[0m \u001b[0mtorch\u001b[0m\u001b[1;33m\u001b[0m\u001b[1;33m\u001b[0m\u001b[0m\n\u001b[0;32m      7\u001b[0m \u001b[1;32mimport\u001b[0m \u001b[0monnx\u001b[0m\u001b[1;33m\u001b[0m\u001b[1;33m\u001b[0m\u001b[0m\n\u001b[1;32m----> 8\u001b[1;33m \u001b[1;32mfrom\u001b[0m \u001b[0monnx\u001b[0m \u001b[1;32mimport\u001b[0m \u001b[0moptimizer\u001b[0m\u001b[1;33m\u001b[0m\u001b[1;33m\u001b[0m\u001b[0m\n\u001b[0m\u001b[0;32m      9\u001b[0m \u001b[1;32mimport\u001b[0m \u001b[0mio\u001b[0m\u001b[1;33m\u001b[0m\u001b[1;33m\u001b[0m\u001b[0m\n\u001b[0;32m     10\u001b[0m \u001b[1;32mimport\u001b[0m \u001b[0mlogging\u001b[0m\u001b[1;33m\u001b[0m\u001b[1;33m\u001b[0m\u001b[0m\n",
      "\u001b[1;31mImportError\u001b[0m: cannot import name 'optimizer' from 'onnx' (C:\\Users\\taoro\\AppData\\Roaming\\Python\\Python39\\site-packages\\onnx\\__init__.py)"
     ]
    }
   ],
   "source": [
    "import numpy as np\n",
    "import tensorflow as tf\n",
    "import tensorflow.keras as keras\n",
    "import tensorflowjs as tfjs\n",
    "import torch\n",
    "import torchvision\n",
    "from pytorch2keras import pytorch_to_keras\n",
    "import torchvision.models as models\n",
    "p_model = models.resnet50(pretrained=True)\n",
    "k_model = pytorch_to_keras(model, input_var, [(10, 32, 32,)], verbose=True, names='short') \n",
    "tfjs.converters.save_keras_model(k_model, \"./models/ResNet50\")\n"
   ]
  },
  {
   "cell_type": "code",
   "execution_count": 7,
   "id": "d0803029-cfac-4940-8f00-13caf7701b43",
   "metadata": {},
   "outputs": [
    {
     "name": "stdout",
     "output_type": "stream",
     "text": [
      "Collecting pytorch2keras\n",
      "  Using cached pytorch2keras-0.2.4-py3-none-any.whl\n",
      "Collecting keras\n",
      "  Using cached keras-2.6.0-py2.py3-none-any.whl (1.3 MB)\n",
      "Collecting onnx2keras\n",
      "  Using cached onnx2keras-0.0.24-py3-none-any.whl\n",
      "Requirement already satisfied: torchvision in c:\\python39\\lib\\site-packages (from pytorch2keras) (0.10.0+cu111)\n",
      "Requirement already satisfied: torch in c:\\python39\\lib\\site-packages (from pytorch2keras) (1.9.0+cu111)\n",
      "Collecting onnx\n",
      "  Using cached onnx-1.10.1-cp39-cp39-win_amd64.whl (11.4 MB)\n",
      "Requirement already satisfied: tensorflow in c:\\python39\\lib\\site-packages (from pytorch2keras) (2.5.0)\n",
      "Collecting numpy\n",
      "  Using cached numpy-1.21.2-cp39-cp39-win_amd64.whl (14.0 MB)\n",
      "Requirement already satisfied: protobuf in c:\\python39\\lib\\site-packages (from onnx->pytorch2keras) (3.17.3)\n",
      "Requirement already satisfied: typing-extensions>=3.6.2.1 in c:\\python39\\lib\\site-packages (from onnx->pytorch2keras) (3.7.4.3)\n",
      "Requirement already satisfied: six in c:\\python39\\lib\\site-packages (from onnx->pytorch2keras) (1.15.0)\n",
      "Requirement already satisfied: grpcio~=1.34.0 in c:\\python39\\lib\\site-packages (from tensorflow->pytorch2keras) (1.34.1)\n",
      "Requirement already satisfied: flatbuffers~=1.12.0 in c:\\python39\\lib\\site-packages (from tensorflow->pytorch2keras) (1.12)\n",
      "Requirement already satisfied: h5py~=3.1.0 in c:\\python39\\lib\\site-packages (from tensorflow->pytorch2keras) (3.1.0)\n",
      "Requirement already satisfied: keras-preprocessing~=1.1.2 in c:\\python39\\lib\\site-packages (from tensorflow->pytorch2keras) (1.1.2)\n",
      "Requirement already satisfied: gast==0.4.0 in c:\\python39\\lib\\site-packages (from tensorflow->pytorch2keras) (0.4.0)\n",
      "Requirement already satisfied: keras-nightly~=2.5.0.dev in c:\\python39\\lib\\site-packages (from tensorflow->pytorch2keras) (2.5.0.dev2021032900)\n",
      "Requirement already satisfied: google-pasta~=0.2 in c:\\python39\\lib\\site-packages (from tensorflow->pytorch2keras) (0.2.0)\n",
      "Requirement already satisfied: wheel~=0.35 in c:\\python39\\lib\\site-packages (from tensorflow->pytorch2keras) (0.37.0)\n",
      "Requirement already satisfied: termcolor~=1.1.0 in c:\\python39\\lib\\site-packages (from tensorflow->pytorch2keras) (1.1.0)\n",
      "Requirement already satisfied: absl-py~=0.10 in c:\\python39\\lib\\site-packages (from tensorflow->pytorch2keras) (0.13.0)\n",
      "Requirement already satisfied: tensorboard~=2.5 in c:\\python39\\lib\\site-packages (from tensorflow->pytorch2keras) (2.6.0)\n",
      "Requirement already satisfied: astunparse~=1.6.3 in c:\\python39\\lib\\site-packages (from tensorflow->pytorch2keras) (1.6.3)\n",
      "  Using cached numpy-1.19.5-cp39-cp39-win_amd64.whl (13.3 MB)\n",
      "Requirement already satisfied: wrapt~=1.12.1 in c:\\python39\\lib\\site-packages (from tensorflow->pytorch2keras) (1.12.1)\n",
      "Requirement already satisfied: opt-einsum~=3.3.0 in c:\\python39\\lib\\site-packages (from tensorflow->pytorch2keras) (3.3.0)\n",
      "Requirement already satisfied: tensorflow-estimator<2.6.0,>=2.5.0rc0 in c:\\python39\\lib\\site-packages (from tensorflow->pytorch2keras) (2.5.0)\n",
      "Requirement already satisfied: werkzeug>=0.11.15 in c:\\python39\\lib\\site-packages (from tensorboard~=2.5->tensorflow->pytorch2keras) (2.0.1)\n",
      "Requirement already satisfied: google-auth<2,>=1.6.3 in c:\\python39\\lib\\site-packages (from tensorboard~=2.5->tensorflow->pytorch2keras) (1.34.0)\n",
      "Requirement already satisfied: tensorboard-data-server<0.7.0,>=0.6.0 in c:\\python39\\lib\\site-packages (from tensorboard~=2.5->tensorflow->pytorch2keras) (0.6.1)\n",
      "Requirement already satisfied: google-auth-oauthlib<0.5,>=0.4.1 in c:\\python39\\lib\\site-packages (from tensorboard~=2.5->tensorflow->pytorch2keras) (0.4.5)\n",
      "Requirement already satisfied: tensorboard-plugin-wit>=1.6.0 in c:\\python39\\lib\\site-packages (from tensorboard~=2.5->tensorflow->pytorch2keras) (1.8.0)\n",
      "Requirement already satisfied: setuptools>=41.0.0 in c:\\python39\\lib\\site-packages (from tensorboard~=2.5->tensorflow->pytorch2keras) (56.0.0)\n",
      "Requirement already satisfied: markdown>=2.6.8 in c:\\python39\\lib\\site-packages (from tensorboard~=2.5->tensorflow->pytorch2keras) (3.3.4)\n",
      "Requirement already satisfied: requests<3,>=2.21.0 in c:\\python39\\lib\\site-packages (from tensorboard~=2.5->tensorflow->pytorch2keras) (2.26.0)\n",
      "Requirement already satisfied: rsa<5,>=3.1.4 in c:\\python39\\lib\\site-packages (from google-auth<2,>=1.6.3->tensorboard~=2.5->tensorflow->pytorch2keras) (4.7.2)\n",
      "Requirement already satisfied: cachetools<5.0,>=2.0.0 in c:\\python39\\lib\\site-packages (from google-auth<2,>=1.6.3->tensorboard~=2.5->tensorflow->pytorch2keras) (4.2.2)\n",
      "Requirement already satisfied: pyasn1-modules>=0.2.1 in c:\\python39\\lib\\site-packages (from google-auth<2,>=1.6.3->tensorboard~=2.5->tensorflow->pytorch2keras) (0.2.8)\n",
      "Requirement already satisfied: requests-oauthlib>=0.7.0 in c:\\python39\\lib\\site-packages (from google-auth-oauthlib<0.5,>=0.4.1->tensorboard~=2.5->tensorflow->pytorch2keras) (1.3.0)\n",
      "Requirement already satisfied: pyasn1<0.5.0,>=0.4.6 in c:\\python39\\lib\\site-packages (from pyasn1-modules>=0.2.1->google-auth<2,>=1.6.3->tensorboard~=2.5->tensorflow->pytorch2keras) (0.4.8)\n",
      "Requirement already satisfied: charset-normalizer~=2.0.0 in c:\\python39\\lib\\site-packages (from requests<3,>=2.21.0->tensorboard~=2.5->tensorflow->pytorch2keras) (2.0.4)\n",
      "Requirement already satisfied: certifi>=2017.4.17 in c:\\python39\\lib\\site-packages (from requests<3,>=2.21.0->tensorboard~=2.5->tensorflow->pytorch2keras) (2021.5.30)\n",
      "Requirement already satisfied: urllib3<1.27,>=1.21.1 in c:\\python39\\lib\\site-packages (from requests<3,>=2.21.0->tensorboard~=2.5->tensorflow->pytorch2keras) (1.26.6)\n",
      "Requirement already satisfied: idna<4,>=2.5 in c:\\python39\\lib\\site-packages (from requests<3,>=2.21.0->tensorboard~=2.5->tensorflow->pytorch2keras) (3.2)\n",
      "Requirement already satisfied: oauthlib>=3.0.0 in c:\\python39\\lib\\site-packages (from requests-oauthlib>=0.7.0->google-auth-oauthlib<0.5,>=0.4.1->tensorboard~=2.5->tensorflow->pytorch2keras) (3.1.1)\n",
      "Requirement already satisfied: pillow>=5.3.0 in c:\\python39\\lib\\site-packages (from torchvision->pytorch2keras) (8.3.1)\n",
      "Installing collected packages: numpy, onnx, onnx2keras, keras, pytorch2keras\n",
      "Successfully installed keras-2.6.0 numpy-1.19.5 onnx-1.10.1 onnx2keras-0.0.24 pytorch2keras-0.2.4\n"
     ]
    },
    {
     "name": "stderr",
     "output_type": "stream",
     "text": [
      "WARNING: Ignoring invalid distribution -umpy (c:\\python39\\lib\\site-packages)\n",
      "WARNING: Ignoring invalid distribution -ip (c:\\python39\\lib\\site-packages)\n",
      "WARNING: Ignoring invalid distribution -umpy (c:\\python39\\lib\\site-packages)\n",
      "WARNING: Ignoring invalid distribution -ip (c:\\python39\\lib\\site-packages)\n",
      "WARNING: Ignoring invalid distribution -umpy (c:\\python39\\lib\\site-packages)\n",
      "WARNING: Ignoring invalid distribution -ip (c:\\python39\\lib\\site-packages)\n",
      "  WARNING: The script f2py.exe is installed in 'C:\\Users\\taoro\\AppData\\Roaming\\Python\\Python39\\Scripts' which is not on PATH.\n",
      "  Consider adding this directory to PATH or, if you prefer to suppress this warning, use --no-warn-script-location.\n",
      "  WARNING: The scripts backend-test-tools.exe, check-model.exe and check-node.exe are installed in 'C:\\Users\\taoro\\AppData\\Roaming\\Python\\Python39\\Scripts' which is not on PATH.\n",
      "  Consider adding this directory to PATH or, if you prefer to suppress this warning, use --no-warn-script-location.\n",
      "ERROR: pip's dependency resolver does not currently take into account all the packages that are installed. This behaviour is the source of the following dependency conflicts.\n",
      "lucid 0.3.10 requires numpy<=1.19, but you have numpy 1.19.5 which is incompatible.\n",
      "WARNING: Ignoring invalid distribution -umpy (c:\\python39\\lib\\site-packages)\n",
      "WARNING: Ignoring invalid distribution -ip (c:\\python39\\lib\\site-packages)\n",
      "WARNING: Ignoring invalid distribution -umpy (c:\\python39\\lib\\site-packages)\n",
      "WARNING: Ignoring invalid distribution -ip (c:\\python39\\lib\\site-packages)\n"
     ]
    }
   ],
   "source": [
    "!pip install pytorch2keras --user"
   ]
  }
 ],
 "metadata": {
  "kernelspec": {
   "display_name": "Python 3 (ipykernel)",
   "language": "python",
   "name": "python3"
  },
  "language_info": {
   "codemirror_mode": {
    "name": "ipython",
    "version": 3
   },
   "file_extension": ".py",
   "mimetype": "text/x-python",
   "name": "python",
   "nbconvert_exporter": "python",
   "pygments_lexer": "ipython3",
   "version": "3.9.6"
  }
 },
 "nbformat": 4,
 "nbformat_minor": 5
}
