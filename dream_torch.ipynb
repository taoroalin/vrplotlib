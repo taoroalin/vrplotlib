{
 "cells": [
  {
   "cell_type": "code",
   "execution_count": 2,
   "id": "d7d04cf0-a1bd-4583-8a6a-718a3177233e",
   "metadata": {},
   "outputs": [],
   "source": [
    "import torch\n",
    "from torch import nn\n",
    "from lucent.optvis import render\n",
    "from lucent.modelzoo import inceptionv1\n",
    "import lucent\n",
    "import torchvision.models as models\n",
    "device = torch.device(\"cuda:0\" if torch.cuda.is_available() else \"cpu\")"
   ]
  },
  {
   "cell_type": "code",
   "execution_count": 3,
   "id": "aec55af3-141b-4f17-9455-c9575753dcfb",
   "metadata": {},
   "outputs": [],
   "source": [
    "class RedirectedReLU(torch.autograd.Function):\n",
    "    \"\"\"\n",
    "    A workaround when there is no gradient flow from an initial random input\n",
    "    See https://github.com/tensorflow/lucid/blob/master/lucid/misc/redirected_relu_grad.py\n",
    "    Note: this means that the gradient is technically \"wrong\"\n",
    "    TODO: the original Lucid library has a more sophisticated way of doing this\n",
    "    \"\"\"\n",
    "    @staticmethod\n",
    "    def forward(ctx, input_tensor):\n",
    "        ctx.save_for_backward(input_tensor)\n",
    "        return input_tensor.clamp(min=0)\n",
    "    @staticmethod\n",
    "    def backward(ctx, grad_output):\n",
    "        input_tensor, = ctx.saved_tensors\n",
    "        grad_input = grad_output.clone()\n",
    "        grad_input[input_tensor < 0] = grad_input[input_tensor < 0] * 1e-1\n",
    "        return grad_input\n",
    "\n",
    "\n",
    "class RedirectedReluLayer(nn.Module):\n",
    "    def forward(self, tensor):\n",
    "        return RedirectedReLU.apply(tensor)\n",
    "\n",
    "def redirect_relu(model):\n",
    "    for child_name, child in model.named_children():\n",
    "        if isinstance(child, nn.ReLU):\n",
    "            print(\"replacing relu\", child_name)\n",
    "            setattr(model, child_name, RedirectedReluLayer())\n",
    "        else:\n",
    "            redirect_relu(child)"
   ]
  },
  {
   "cell_type": "code",
   "execution_count": 4,
   "id": "00bbcd57-b314-450a-b97c-562722fe540b",
   "metadata": {},
   "outputs": [
    {
     "name": "stdout",
     "output_type": "stream",
     "text": [
      "replacing relu relu\n",
      "replacing relu relu\n",
      "replacing relu relu\n",
      "replacing relu relu\n",
      "replacing relu relu\n",
      "replacing relu relu\n",
      "replacing relu relu\n",
      "replacing relu relu\n",
      "replacing relu relu\n",
      "replacing relu relu\n",
      "replacing relu relu\n",
      "replacing relu relu\n",
      "replacing relu relu\n",
      "replacing relu relu\n",
      "replacing relu relu\n",
      "replacing relu relu\n",
      "replacing relu relu\n"
     ]
    }
   ],
   "source": [
    "def load_model(name):\n",
    "    m=getattr(models, name)(pretrained=True)\n",
    "    redirect_relu(m)\n",
    "    m.to(device).eval()\n",
    "    return m\n",
    "\n",
    "resnet50 = load_model(\"resnet50\")\n",
    "# inceptionv2 = load_model(\"inception_v3\")\n",
    "# alexnet = load_model('alexnet')"
   ]
  },
  {
   "cell_type": "code",
   "execution_count": 6,
   "id": "d5c1eb09-b8b3-4039-bdce-5f363a1188e0",
   "metadata": {},
   "outputs": [
    {
     "name": "stdout",
     "output_type": "stream",
     "text": [
      "['', 'conv1', 'bn1', 'relu', 'maxpool', 'layer1', 'layer1.0', 'layer1.0.conv1', 'layer1.0.bn1', 'layer1.0.conv2', 'layer1.0.bn2', 'layer1.0.conv3', 'layer1.0.bn3', 'layer1.0.relu', 'layer1.0.downsample', 'layer1.0.downsample.0', 'layer1.0.downsample.1', 'layer1.1', 'layer1.1.conv1', 'layer1.1.bn1', 'layer1.1.conv2', 'layer1.1.bn2', 'layer1.1.conv3', 'layer1.1.bn3', 'layer1.1.relu', 'layer1.2', 'layer1.2.conv1', 'layer1.2.bn1', 'layer1.2.conv2', 'layer1.2.bn2', 'layer1.2.conv3', 'layer1.2.bn3', 'layer1.2.relu', 'layer2', 'layer2.0', 'layer2.0.conv1', 'layer2.0.bn1', 'layer2.0.conv2', 'layer2.0.bn2', 'layer2.0.conv3', 'layer2.0.bn3', 'layer2.0.relu', 'layer2.0.downsample', 'layer2.0.downsample.0', 'layer2.0.downsample.1', 'layer2.1', 'layer2.1.conv1', 'layer2.1.bn1', 'layer2.1.conv2', 'layer2.1.bn2', 'layer2.1.conv3', 'layer2.1.bn3', 'layer2.1.relu', 'layer2.2', 'layer2.2.conv1', 'layer2.2.bn1', 'layer2.2.conv2', 'layer2.2.bn2', 'layer2.2.conv3', 'layer2.2.bn3', 'layer2.2.relu', 'layer2.3', 'layer2.3.conv1', 'layer2.3.bn1', 'layer2.3.conv2', 'layer2.3.bn2', 'layer2.3.conv3', 'layer2.3.bn3', 'layer2.3.relu', 'layer3', 'layer3.0', 'layer3.0.conv1', 'layer3.0.bn1', 'layer3.0.conv2', 'layer3.0.bn2', 'layer3.0.conv3', 'layer3.0.bn3', 'layer3.0.relu', 'layer3.0.downsample', 'layer3.0.downsample.0', 'layer3.0.downsample.1', 'layer3.1', 'layer3.1.conv1', 'layer3.1.bn1', 'layer3.1.conv2', 'layer3.1.bn2', 'layer3.1.conv3', 'layer3.1.bn3', 'layer3.1.relu', 'layer3.2', 'layer3.2.conv1', 'layer3.2.bn1', 'layer3.2.conv2', 'layer3.2.bn2', 'layer3.2.conv3', 'layer3.2.bn3', 'layer3.2.relu', 'layer3.3', 'layer3.3.conv1', 'layer3.3.bn1', 'layer3.3.conv2', 'layer3.3.bn2', 'layer3.3.conv3', 'layer3.3.bn3', 'layer3.3.relu', 'layer3.4', 'layer3.4.conv1', 'layer3.4.bn1', 'layer3.4.conv2', 'layer3.4.bn2', 'layer3.4.conv3', 'layer3.4.bn3', 'layer3.4.relu', 'layer3.5', 'layer3.5.conv1', 'layer3.5.bn1', 'layer3.5.conv2', 'layer3.5.bn2', 'layer3.5.conv3', 'layer3.5.bn3', 'layer3.5.relu', 'layer4', 'layer4.0', 'layer4.0.conv1', 'layer4.0.bn1', 'layer4.0.conv2', 'layer4.0.bn2', 'layer4.0.conv3', 'layer4.0.bn3', 'layer4.0.relu', 'layer4.0.downsample', 'layer4.0.downsample.0', 'layer4.0.downsample.1', 'layer4.1', 'layer4.1.conv1', 'layer4.1.bn1', 'layer4.1.conv2', 'layer4.1.bn2', 'layer4.1.conv3', 'layer4.1.bn3', 'layer4.1.relu', 'layer4.2', 'layer4.2.conv1', 'layer4.2.bn1', 'layer4.2.conv2', 'layer4.2.bn2', 'layer4.2.conv3', 'layer4.2.bn3', 'layer4.2.relu', 'avgpool', 'fc']\n"
     ]
    },
    {
     "name": "stderr",
     "output_type": "stream",
     "text": [
      "  0%|                            | 0/512 [00:00<?, ?it/s]c:\\python39\\lib\\site-packages\\torch\\nn\\functional.py:718: UserWarning: Named tensors and all their associated APIs are an experimental feature and subject to change. Please do not use them for anything important until they are released as stable. (Triggered internally at  ..\\c10/core/TensorImpl.h:1156.)\n",
      "  return torch.max_pool2d(input, kernel_size, stride, padding, dilation, ceil_mode)\n",
      "100%|██████████████████| 512/512 [02:41<00:00,  3.16it/s]\n"
     ]
    },
    {
     "data": {
      "text/plain": [
       "[array([[[[0.75847334, 0.6493587 , 0.99756026],\n",
       "          [0.73796564, 0.98415935, 0.9990571 ],\n",
       "          [0.7422461 , 0.97065926, 0.99800247],\n",
       "          ...,\n",
       "          [0.7007602 , 0.7670824 , 0.992747  ],\n",
       "          [0.77368456, 0.95976704, 0.99760276],\n",
       "          [0.64313143, 0.9850007 , 0.99870276]],\n",
       " \n",
       "         [[0.71362203, 0.98937654, 0.99920505],\n",
       "          [0.72293895, 0.97802645, 0.9988881 ],\n",
       "          [0.7034192 , 0.92753994, 0.9978492 ],\n",
       "          ...,\n",
       "          [0.7246725 , 0.9441732 , 0.99614304],\n",
       "          [0.76266646, 0.9728378 , 0.99844474],\n",
       "          [0.8069213 , 0.6102967 , 0.99666226]],\n",
       " \n",
       "         [[0.7479386 , 0.96247303, 0.9985769 ],\n",
       "          [0.85322803, 0.62751216, 0.9972633 ],\n",
       "          [0.67304426, 0.90440834, 0.9963257 ],\n",
       "          ...,\n",
       "          [0.76329106, 0.8243588 , 0.98917973],\n",
       "          [0.6617194 , 0.93424016, 0.9950393 ],\n",
       "          [0.718394  , 0.9241797 , 0.9974446 ]],\n",
       " \n",
       "         ...,\n",
       " \n",
       "         [[0.7902537 , 0.8440971 , 0.98394275],\n",
       "          [0.74015653, 0.89939004, 0.9816835 ],\n",
       "          [0.78856754, 0.9452825 , 0.987535  ],\n",
       "          ...,\n",
       "          [0.73104084, 0.5501055 , 0.9512087 ],\n",
       "          [0.8442377 , 0.9198804 , 0.98028576],\n",
       "          [0.85066885, 0.96694636, 0.9919093 ]],\n",
       " \n",
       "         [[0.8250216 , 0.84348136, 0.99253756],\n",
       "          [0.7972241 , 0.9712967 , 0.99651766],\n",
       "          [0.70264083, 0.90837127, 0.9918566 ],\n",
       "          ...,\n",
       "          [0.78161746, 0.90792817, 0.99007004],\n",
       "          [0.65189755, 0.96368873, 0.993105  ],\n",
       "          [0.70723516, 0.9638879 , 0.99076897]],\n",
       " \n",
       "         [[0.73612785, 0.9811513 , 0.9986286 ],\n",
       "          [0.8238873 , 0.76434857, 0.9947115 ],\n",
       "          [0.7784099 , 0.8913144 , 0.99499583],\n",
       "          ...,\n",
       "          [0.7401244 , 0.9345265 , 0.9946504 ],\n",
       "          [0.7908478 , 0.9403295 , 0.99584347],\n",
       "          [0.7416635 , 0.8388841 , 0.9952578 ]]]], dtype=float32)]"
      ]
     },
     "execution_count": 6,
     "metadata": {},
     "output_type": "execute_result"
    }
   ],
   "source": [
    "print([n for n, x in resnet50.named_modules()])\n",
    "# print(lucent.modelzoo.util.get_model_layers(resnet50))\n",
    "# render.render_vis(resnet50, \"avgpool:7\")\n",
    "render.render_vis(resnet50, \"layer1:10\")\n",
    "# render.render_vis(resnet50, \"layer3:11\")"
   ]
  }
 ],
 "metadata": {
  "kernelspec": {
   "display_name": "Python 3 (ipykernel)",
   "language": "python",
   "name": "python3"
  },
  "language_info": {
   "codemirror_mode": {
    "name": "ipython",
    "version": 3
   },
   "file_extension": ".py",
   "mimetype": "text/x-python",
   "name": "python",
   "nbconvert_exporter": "python",
   "pygments_lexer": "ipython3",
   "version": "3.9.6"
  }
 },
 "nbformat": 4,
 "nbformat_minor": 5
}
