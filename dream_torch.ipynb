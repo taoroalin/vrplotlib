{
 "cells": [
  {
   "cell_type": "code",
   "execution_count": 26,
   "id": "d7d04cf0-a1bd-4583-8a6a-718a3177233e",
   "metadata": {},
   "outputs": [],
   "source": [
    "import torch\n",
    "from torch import nn\n",
    "from lucent.optvis import render\n",
    "from lucent.modelzoo import inceptionv1\n",
    "import lucent\n",
    "import torchvision.models as models\n",
    "device = torch.device(\"cuda:0\" if torch.cuda.is_available() else \"cpu\")"
   ]
  },
  {
   "cell_type": "code",
   "execution_count": null,
   "id": "aec55af3-141b-4f17-9455-c9575753dcfb",
   "metadata": {},
   "outputs": [],
   "source": [
    "class RedirectedReLU(torch.autograd.Function):\n",
    "    \"\"\"\n",
    "    A workaround when there is no gradient flow from an initial random input\n",
    "    See https://github.com/tensorflow/lucid/blob/master/lucid/misc/redirected_relu_grad.py\n",
    "    Note: this means that the gradient is technically \"wrong\"\n",
    "    TODO: the original Lucid library has a more sophisticated way of doing this\n",
    "    \"\"\"\n",
    "    @staticmethod\n",
    "    def forward(ctx, input_tensor):\n",
    "        ctx.save_for_backward(input_tensor)\n",
    "        return input_tensor.clamp(min=0)\n",
    "    @staticmethod\n",
    "    def backward(ctx, grad_output):\n",
    "        input_tensor, = ctx.saved_tensors\n",
    "        grad_input = grad_output.clone()\n",
    "        grad_input[input_tensor < 0] = grad_input[input_tensor < 0] * 1e-1\n",
    "        return grad_input\n",
    "\n",
    "\n",
    "class RedirectedReluLayer(nn.Module):\n",
    "    def forward(self, tensor):\n",
    "        return RedirectedReLU.apply(tensor)\n",
    "\n",
    "def redirect_relu(model):\n",
    "    for child_name, child in model.named_children():\n",
    "        if isinstance(child, nn.ReLU):\n",
    "            print(\"replacing relu\", child_name)\n",
    "            setattr(model, child_name, RedirectedReluLayer())\n",
    "        else:\n",
    "            redirect_relu(child)"
   ]
  },
  {
   "cell_type": "code",
   "execution_count": 50,
   "id": "00bbcd57-b314-450a-b97c-562722fe540b",
   "metadata": {},
   "outputs": [
    {
     "name": "stdout",
     "output_type": "stream",
     "text": [
      "replacing relu relu\n",
      "replacing relu relu\n",
      "replacing relu relu\n",
      "replacing relu relu\n",
      "replacing relu relu\n",
      "replacing relu relu\n",
      "replacing relu relu\n",
      "replacing relu relu\n",
      "replacing relu relu\n",
      "replacing relu relu\n",
      "replacing relu relu\n",
      "replacing relu relu\n",
      "replacing relu relu\n",
      "replacing relu relu\n",
      "replacing relu relu\n",
      "replacing relu relu\n",
      "replacing relu relu\n"
     ]
    }
   ],
   "source": [
    "def load_model(name):\n",
    "    m=getattr(models, name)(pretrained=True)\n",
    "    redirect_relu(m)\n",
    "    m.to(device).eval()\n",
    "    return m\n",
    "\n",
    "resnet50 = load_model(\"resnet50\")\n",
    "# inceptionv2 = load_model(\"inception_v3\")\n",
    "# alexnet = load_model('alexnet')"
   ]
  },
  {
   "cell_type": "code",
   "execution_count": 51,
   "id": "d5c1eb09-b8b3-4039-bdce-5f363a1188e0",
   "metadata": {},
   "outputs": [
    {
     "name": "stdout",
     "output_type": "stream",
     "text": [
      "['', 'conv1', 'bn1', 'relu', 'maxpool', 'layer1', 'layer1.0', 'layer1.0.conv1', 'layer1.0.bn1', 'layer1.0.conv2', 'layer1.0.bn2', 'layer1.0.conv3', 'layer1.0.bn3', 'layer1.0.relu', 'layer1.0.downsample', 'layer1.0.downsample.0', 'layer1.0.downsample.1', 'layer1.1', 'layer1.1.conv1', 'layer1.1.bn1', 'layer1.1.conv2', 'layer1.1.bn2', 'layer1.1.conv3', 'layer1.1.bn3', 'layer1.1.relu', 'layer1.2', 'layer1.2.conv1', 'layer1.2.bn1', 'layer1.2.conv2', 'layer1.2.bn2', 'layer1.2.conv3', 'layer1.2.bn3', 'layer1.2.relu', 'layer2', 'layer2.0', 'layer2.0.conv1', 'layer2.0.bn1', 'layer2.0.conv2', 'layer2.0.bn2', 'layer2.0.conv3', 'layer2.0.bn3', 'layer2.0.relu', 'layer2.0.downsample', 'layer2.0.downsample.0', 'layer2.0.downsample.1', 'layer2.1', 'layer2.1.conv1', 'layer2.1.bn1', 'layer2.1.conv2', 'layer2.1.bn2', 'layer2.1.conv3', 'layer2.1.bn3', 'layer2.1.relu', 'layer2.2', 'layer2.2.conv1', 'layer2.2.bn1', 'layer2.2.conv2', 'layer2.2.bn2', 'layer2.2.conv3', 'layer2.2.bn3', 'layer2.2.relu', 'layer2.3', 'layer2.3.conv1', 'layer2.3.bn1', 'layer2.3.conv2', 'layer2.3.bn2', 'layer2.3.conv3', 'layer2.3.bn3', 'layer2.3.relu', 'layer3', 'layer3.0', 'layer3.0.conv1', 'layer3.0.bn1', 'layer3.0.conv2', 'layer3.0.bn2', 'layer3.0.conv3', 'layer3.0.bn3', 'layer3.0.relu', 'layer3.0.downsample', 'layer3.0.downsample.0', 'layer3.0.downsample.1', 'layer3.1', 'layer3.1.conv1', 'layer3.1.bn1', 'layer3.1.conv2', 'layer3.1.bn2', 'layer3.1.conv3', 'layer3.1.bn3', 'layer3.1.relu', 'layer3.2', 'layer3.2.conv1', 'layer3.2.bn1', 'layer3.2.conv2', 'layer3.2.bn2', 'layer3.2.conv3', 'layer3.2.bn3', 'layer3.2.relu', 'layer3.3', 'layer3.3.conv1', 'layer3.3.bn1', 'layer3.3.conv2', 'layer3.3.bn2', 'layer3.3.conv3', 'layer3.3.bn3', 'layer3.3.relu', 'layer3.4', 'layer3.4.conv1', 'layer3.4.bn1', 'layer3.4.conv2', 'layer3.4.bn2', 'layer3.4.conv3', 'layer3.4.bn3', 'layer3.4.relu', 'layer3.5', 'layer3.5.conv1', 'layer3.5.bn1', 'layer3.5.conv2', 'layer3.5.bn2', 'layer3.5.conv3', 'layer3.5.bn3', 'layer3.5.relu', 'layer4', 'layer4.0', 'layer4.0.conv1', 'layer4.0.bn1', 'layer4.0.conv2', 'layer4.0.bn2', 'layer4.0.conv3', 'layer4.0.bn3', 'layer4.0.relu', 'layer4.0.downsample', 'layer4.0.downsample.0', 'layer4.0.downsample.1', 'layer4.1', 'layer4.1.conv1', 'layer4.1.bn1', 'layer4.1.conv2', 'layer4.1.bn2', 'layer4.1.conv3', 'layer4.1.bn3', 'layer4.1.relu', 'layer4.2', 'layer4.2.conv1', 'layer4.2.bn1', 'layer4.2.conv2', 'layer4.2.bn2', 'layer4.2.conv3', 'layer4.2.bn3', 'layer4.2.relu', 'avgpool', 'fc']\n",
      "['', 'features', 'features.0', 'features.1', 'features.2', 'features.3', 'features.4', 'features.5', 'features.6', 'features.7', 'features.8', 'features.9', 'features.10', 'features.11', 'features.12', 'avgpool', 'classifier', 'classifier.0', 'classifier.1', 'classifier.2', 'classifier.3', 'classifier.4', 'classifier.5', 'classifier.6']\n"
     ]
    },
    {
     "name": "stderr",
     "output_type": "stream",
     "text": [
      "100%|█████████████████████████████| 512/512 [00:23<00:00, 21.80it/s]\n",
      "100%|█████████████████████████████| 512/512 [00:20<00:00, 25.44it/s]\n"
     ]
    },
    {
     "data": {
      "text/plain": [
       "[array([[[[0.2367459 , 0.27923757, 0.06287524],\n",
       "          [0.8577448 , 0.89851636, 0.82486796],\n",
       "          [0.24325831, 0.29001126, 0.28956234],\n",
       "          ...,\n",
       "          [0.24543612, 0.08558498, 0.23577204],\n",
       "          [0.30836508, 0.11068077, 0.37057713],\n",
       "          [0.7890136 , 0.5117073 , 0.72716236]],\n",
       " \n",
       "         [[0.24291992, 0.33009845, 0.4123458 ],\n",
       "          [0.5348774 , 0.4893551 , 0.47835368],\n",
       "          [0.74113566, 0.73734206, 0.6040661 ],\n",
       "          ...,\n",
       "          [0.25935367, 0.09364453, 0.25645468],\n",
       "          [0.6756637 , 0.6204074 , 0.56250894],\n",
       "          [0.55517566, 0.37849906, 0.50153595]],\n",
       " \n",
       "         [[0.33293498, 0.32150447, 0.11175639],\n",
       "          [0.42920393, 0.48505506, 0.6034013 ],\n",
       "          [0.7156328 , 0.7514193 , 0.62032527],\n",
       "          ...,\n",
       "          [0.17285085, 0.05920639, 0.10277893],\n",
       "          [0.74947137, 0.6235415 , 0.63907343],\n",
       "          [0.42556205, 0.12283821, 0.31467655]],\n",
       " \n",
       "         ...,\n",
       " \n",
       "         [[0.50020397, 0.56715006, 0.4256577 ],\n",
       "          [0.45848402, 0.547323  , 0.616091  ],\n",
       "          [0.56357867, 0.5420122 , 0.4935395 ],\n",
       "          ...,\n",
       "          [0.65478075, 0.548308  , 0.43334797],\n",
       "          [0.48978862, 0.53152084, 0.5363523 ],\n",
       "          [0.34548488, 0.50243384, 0.5823308 ]],\n",
       " \n",
       "         [[0.46252242, 0.54739404, 0.45856252],\n",
       "          [0.584675  , 0.47272047, 0.5484917 ],\n",
       "          [0.5565512 , 0.5485692 , 0.5741686 ],\n",
       "          ...,\n",
       "          [0.47422522, 0.5155257 , 0.56974745],\n",
       "          [0.31889677, 0.47597122, 0.7177433 ],\n",
       "          [0.65055233, 0.5044487 , 0.35046682]],\n",
       " \n",
       "         [[0.4690932 , 0.53000504, 0.41673434],\n",
       "          [0.47486565, 0.51416975, 0.4910509 ],\n",
       "          [0.5765073 , 0.57464164, 0.49027824],\n",
       "          ...,\n",
       "          [0.43657488, 0.51371217, 0.60231566],\n",
       "          [0.64798963, 0.5596524 , 0.36395273],\n",
       "          [0.4647863 , 0.540218  , 0.55347717]]]], dtype=float32)]"
      ]
     },
     "execution_count": 51,
     "metadata": {},
     "output_type": "execute_result"
    }
   ],
   "source": [
    "print([n for n, x in resnet50.named_modules()])\n",
    "print([n for n, x in alexnet.named_modules()])\n",
    "# print(lucent.modelzoo.util.get_model_layers(resnet50))\n",
    "# render.render_vis(resnet50, \"avgpool:7\")\n",
    "render.render_vis(resnet50, \"fc:10\")\n",
    "render.render_vis(resnet50, \"layer3:11\")"
   ]
  }
 ],
 "metadata": {
  "kernelspec": {
   "display_name": "Python 3 (ipykernel)",
   "language": "python",
   "name": "python3"
  },
  "language_info": {
   "codemirror_mode": {
    "name": "ipython",
    "version": 3
   },
   "file_extension": ".py",
   "mimetype": "text/x-python",
   "name": "python",
   "nbconvert_exporter": "python",
   "pygments_lexer": "ipython3",
   "version": "3.9.6"
  }
 },
 "nbformat": 4,
 "nbformat_minor": 5
}
